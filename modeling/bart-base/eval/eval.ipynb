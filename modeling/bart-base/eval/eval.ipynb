{
 "cells": [
  {
   "attachments": {},
   "cell_type": "markdown",
   "metadata": {},
   "source": [
    "## 載入資料集 (預測與True Label)"
   ]
  },
  {
   "cell_type": "code",
   "execution_count": 4,
   "metadata": {},
   "outputs": [],
   "source": [
    "import json\n",
    "from rouge_score import rouge_scorer\n",
    "from rouge import Rouge"
   ]
  },
  {
   "cell_type": "code",
   "execution_count": 5,
   "metadata": {},
   "outputs": [],
   "source": [
    "def read_json(path):\n",
    "    with open(path) as f:\n",
    "        data = json.load(f)\n",
    "    return data"
   ]
  },
  {
   "cell_type": "code",
   "execution_count": 6,
   "metadata": {},
   "outputs": [],
   "source": [
    "test_data = read_json(\"/user_data/MedQA_DG/model/bart-base/train/test.json\")\n",
    "pred_data = read_json(\"/user_data/MedQA_DG/model/bart-base/train/pred.json\")"
   ]
  },
  {
   "cell_type": "code",
   "execution_count": 7,
   "metadata": {},
   "outputs": [
    {
     "data": {
      "text/plain": [
       "(1273, 1273)"
      ]
     },
     "execution_count": 7,
     "metadata": {},
     "output_type": "execute_result"
    }
   ],
   "source": [
    "len(test_data), len(pred_data)"
   ]
  },
  {
   "cell_type": "code",
   "execution_count": 10,
   "metadata": {},
   "outputs": [
    {
     "data": {
      "text/plain": [
       "'Disclose the error to the patient but leave it out of the operative report[EOD]Disclose the error to the patient and put it in the operative report[EOD]Report the physician to the ethics committee[EOD]Refuse to dictate the operative report'"
      ]
     },
     "execution_count": 10,
     "metadata": {},
     "output_type": "execute_result"
    }
   ],
   "source": [
    "test_data[0]"
   ]
  },
  {
   "cell_type": "code",
   "execution_count": 9,
   "metadata": {},
   "outputs": [
    {
     "data": {
      "text/plain": [
       "['Disclose the error to the patient but leave it out of the operative report',\n",
       " 'Disclose the error to the patient and put it in the operative report',\n",
       " 'Report the physician to the ethics committee',\n",
       " 'Refuse to dictate the operative report']"
      ]
     },
     "execution_count": 9,
     "metadata": {},
     "output_type": "execute_result"
    }
   ],
   "source": [
    "test_data[0].split('[EOD]')"
   ]
  },
  {
   "cell_type": "code",
   "execution_count": 11,
   "metadata": {},
   "outputs": [
    {
     "data": {
      "text/plain": [
       "'</s><s>Tell the attending that he cannot fail to disclose this complication [EOD] Tell the resident that he</s>'"
      ]
     },
     "execution_count": 11,
     "metadata": {},
     "output_type": "execute_result"
    }
   ],
   "source": [
    "pred_data[0]"
   ]
  },
  {
   "cell_type": "code",
   "execution_count": 13,
   "metadata": {},
   "outputs": [
    {
     "data": {
      "text/plain": [
       "['Tell the attending that he cannot fail to disclose this complication ',\n",
       " ' Tell the resident that he']"
      ]
     },
     "execution_count": 13,
     "metadata": {},
     "output_type": "execute_result"
    }
   ],
   "source": [
    "## Options 不一定會生4個\n",
    "((pred_data[0].replace('</s>','')).replace('<s>','')).split('[EOD]')"
   ]
  },
  {
   "attachments": {},
   "cell_type": "markdown",
   "metadata": {},
   "source": [
    "### 直接將 Prediction 與True Label 算 Rouge Score\n",
    "\n",
    "True_Label = Option1, Option2, Option3, Option4\n",
    "\n",
    "Pred_Label = Pred1, Pred2, Pred3, Pred4\n",
    "\n",
    "Score = Rouge(True_Label, Pred_Label)\n"
   ]
  },
  {
   "cell_type": "code",
   "execution_count": 35,
   "metadata": {},
   "outputs": [
    {
     "name": "stdout",
     "output_type": "stream",
     "text": [
      "precision =  0.0929095597005422\n",
      "recall =  0.13790517983369502\n",
      "f1 =  0.10590361348253792\n",
      "max f1 =  0.78260869073724\n"
     ]
    }
   ],
   "source": [
    "precision = 0\n",
    "recall = 0\n",
    "f1 = 0\n",
    "max_score = 0\n",
    "\n",
    "count1 = 0\n",
    "count2 = 0\n",
    "\n",
    "rouge = Rouge()\n",
    "for i in range(len(test_data)):\n",
    "    true_label, pred_label = test_data[i],pred_data[i]\n",
    "    true_options = true_label.replace('[EOD]','')\n",
    "    pred_options = ((pred_label.replace('</s>','')).replace('<s>','')).replace('[EOD]','')\n",
    "\n",
    "    prec_1 = 0\n",
    "    recall_1 = 0\n",
    "    f1_1 = 0\n",
    "\n",
    "    \n",
    "    \n",
    "    rouge_score = rouge.get_scores(true_options,pred_options)\n",
    "    r1 = rouge_score[0][\"rouge-l\"]\n",
    "    p,r,f = r1['p'],r1['r'],r1['f']\n",
    "    \n",
    "    prec_1 = max(prec_1,p)\n",
    "    recall_1 = max(recall_1,r)\n",
    "    f1_1 = max(f1_1,f)\n",
    "\n",
    "    if f1_1 > max_score:\n",
    "        max_score = f1_1\n",
    "\n",
    "    precision = prec_1 + precision\n",
    "    recall = recall_1 + recall\n",
    "    f1 = f1_1 + f1\n",
    "\n",
    "precision = precision/(len(test_data))\n",
    "recall = recall/(len(test_data))\n",
    "f1 = f1/(len(test_data))\n",
    "\n",
    "print(\"precision = \",precision)\n",
    "print(\"recall = \",recall)\n",
    "print(\"f1 = \",f1)\n",
    "print(\"max f1 = \",max_score)\n"
   ]
  },
  {
   "attachments": {},
   "cell_type": "markdown",
   "metadata": {},
   "source": [
    "### 將 Prediction 與 True Label 分別計算 Rouge Score 取最高\n",
    "True_Label = Option1, Option2, Option3, Option4\n",
    "\n",
    "Pred_Label = Pred1, Pred2, Pred3, Pred4\n",
    "\n",
    "Score = Max( Rouge(Option1, Pred1), Rouge(Option1, Pred2), …, Rouge(Option4, Pred4))\n"
   ]
  },
  {
   "cell_type": "code",
   "execution_count": 33,
   "metadata": {},
   "outputs": [
    {
     "name": "stdout",
     "output_type": "stream",
     "text": [
      "precision =  0.32659067165325867\n",
      "recall =  0.34185305180984643\n",
      "f1 =  0.3205582069985968\n",
      "max f1 =  0.999999995\n"
     ]
    }
   ],
   "source": [
    "precision = 0\n",
    "recall = 0\n",
    "f1 = 0\n",
    "max_score = 0\n",
    "\n",
    "count1 = 0\n",
    "count2 = 0\n",
    "\n",
    "rouge = Rouge()\n",
    "for i in range(len(test_data)):\n",
    "    true_label, pred_label = test_data[i],pred_data[i]\n",
    "    true_options = true_label.split('[EOD]')\n",
    "    pred_options = ((pred_label.replace('</s>','')).replace('<s>','')).split('[EOD]')\n",
    "    \n",
    "    prec_1 = 0\n",
    "    recall_1 = 0\n",
    "    f1_1 = 0\n",
    "\n",
    "    if len(pred_options) == 4:\n",
    "        count1 = count1 + 1\n",
    "    else:\n",
    "        count2 = count2 + 1\n",
    "\n",
    "    \n",
    "    for option in true_options:\n",
    "        for pred in pred_options:\n",
    "            rouge_score = rouge.get_scores(option,pred)\n",
    "            r1 = rouge_score[0][\"rouge-l\"]\n",
    "            p,r,f = r1['p'],r1['r'],r1['f']\n",
    "            \n",
    "            prec_1 = max(prec_1,p)\n",
    "            recall_1 = max(recall_1,r)\n",
    "            f1_1 = max(f1_1,f)\n",
    "\n",
    "    \n",
    "\n",
    "    if f1_1 > max_score:\n",
    "        max_score = f1_1\n",
    "\n",
    "    precision = prec_1 + precision\n",
    "    recall = recall_1 + recall\n",
    "    f1 = f1_1 + f1\n",
    "\n",
    "precision = precision/(len(test_data))\n",
    "recall = recall/(len(test_data))\n",
    "f1 = f1/(len(test_data))\n",
    "\n",
    "print(\"precision = \",precision)\n",
    "print(\"recall = \",recall)\n",
    "print(\"f1 = \",f1)\n",
    "print(\"max f1 = \",max_score)\n"
   ]
  },
  {
   "attachments": {},
   "cell_type": "markdown",
   "metadata": {},
   "source": [
    "#### 有296題有符合生出4個選項 977個不滿4個選項"
   ]
  },
  {
   "cell_type": "code",
   "execution_count": 26,
   "metadata": {},
   "outputs": [
    {
     "data": {
      "text/plain": [
       "296"
      ]
     },
     "execution_count": 26,
     "metadata": {},
     "output_type": "execute_result"
    }
   ],
   "source": [
    "count1"
   ]
  },
  {
   "cell_type": "code",
   "execution_count": 27,
   "metadata": {},
   "outputs": [
    {
     "data": {
      "text/plain": [
       "977"
      ]
     },
     "execution_count": 27,
     "metadata": {},
     "output_type": "execute_result"
    }
   ],
   "source": [
    "count2"
   ]
  }
 ],
 "metadata": {
  "kernelspec": {
   "display_name": "Python 3 (ipykernel)",
   "language": "python",
   "name": "python3"
  },
  "language_info": {
   "codemirror_mode": {
    "name": "ipython",
    "version": 3
   },
   "file_extension": ".py",
   "mimetype": "text/x-python",
   "name": "python",
   "nbconvert_exporter": "python",
   "pygments_lexer": "ipython3",
   "version": "3.8.10"
  },
  "orig_nbformat": 4
 },
 "nbformat": 4,
 "nbformat_minor": 2
}
